{
 "cells": [
  {
   "cell_type": "code",
   "execution_count": 3,
   "metadata": {},
   "outputs": [],
   "source": [
    "import json\n",
    "import random"
   ]
  },
  {
   "cell_type": "code",
   "execution_count": 2,
   "metadata": {},
   "outputs": [
    {
     "name": "stdout",
     "output_type": "stream",
     "text": [
      "Dataset size: 57\n",
      "Dataset is shuffled...\n",
      "Dataset is splitted...\n"
     ]
    }
   ],
   "source": [
    "train_path = \"./data/data.json\"\n",
    "\n",
    "with open(train_path, \"r\") as f:\n",
    "    data = json.load(f)\n",
    "\n",
    "print('Dataset size:', len(data))\n",
    "\n",
    "random.shuffle(data)\n",
    "print('Dataset is shuffled...')\n",
    "\n",
    "train_dataset = data[:int(len(data)*0.9)]\n",
    "test_dataset = data[int(len(data)*0.9):]\n",
    "\n",
    "print('Dataset is splitted...')"
   ]
  },
  {
   "cell_type": "code",
   "execution_count": 4,
   "metadata": {},
   "outputs": [
    {
     "name": "stderr",
     "output_type": "stream",
     "text": [
      "c:\\Users\\benysar\\Documents\\GitHub\\GLiner-TransbronchialBiopsy\\gliner_env\\Lib\\site-packages\\tqdm\\auto.py:21: TqdmWarning: IProgress not found. Please update jupyter and ipywidgets. See https://ipywidgets.readthedocs.io/en/stable/user_install.html\n",
      "  from .autonotebook import tqdm as notebook_tqdm\n"
     ]
    }
   ],
   "source": [
    "import os\n",
    "os.environ[\"TOKENIZERS_PARALLELISM\"] = \"true\"\n",
    "\n",
    "import torch\n",
    "from gliner import GLiNERConfig, GLiNER\n",
    "from gliner.training import Trainer, TrainingArguments\n",
    "from gliner.data_processing.collator import DataCollatorWithPadding, DataCollator\n",
    "from gliner.utils import load_config_as_namespace\n",
    "from gliner.data_processing import WordsSplitter, GLiNERDataset"
   ]
  },
  {
   "cell_type": "code",
   "execution_count": 5,
   "metadata": {},
   "outputs": [
    {
     "name": "stdout",
     "output_type": "stream",
     "text": [
      "CUDA available: True\n",
      "CUDA version: 12.1\n",
      "GPU count: 1\n",
      "GPU name: NVIDIA RTX 4500 Ada Generation\n"
     ]
    }
   ],
   "source": [
    "import torch\n",
    "print(\"CUDA available:\", torch.cuda.is_available())\n",
    "print(\"CUDA version:\", torch.version.cuda)\n",
    "print(\"GPU count:\", torch.cuda.device_count())\n",
    "print(\"GPU name:\", torch.cuda.get_device_name(0) if torch.cuda.is_available() else \"No GPU\")"
   ]
  },
  {
   "cell_type": "code",
   "execution_count": 5,
   "metadata": {},
   "outputs": [
    {
     "name": "stdout",
     "output_type": "stream",
     "text": [
      "cuda:0\n"
     ]
    },
    {
     "name": "stderr",
     "output_type": "stream",
     "text": [
      "Fetching 4 files: 100%|██████████| 4/4 [00:00<?, ?it/s]\n",
      "c:\\Users\\benysar\\Documents\\GitHub\\GLiner-TransbronchialBiopsy\\gliner_env\\Lib\\site-packages\\huggingface_hub\\file_download.py:797: FutureWarning: `resume_download` is deprecated and will be removed in version 1.0.0. Downloads always resume when possible. If you want to force a new download, use `force_download=True`.\n",
      "  warnings.warn(\n",
      "c:\\Users\\benysar\\Documents\\GitHub\\GLiner-TransbronchialBiopsy\\gliner_env\\Lib\\site-packages\\gliner\\model.py:483: FutureWarning: You are using `torch.load` with `weights_only=False` (the current default value), which uses the default pickle module implicitly. It is possible to construct malicious pickle data which will execute arbitrary code during unpickling (See https://github.com/pytorch/pytorch/blob/main/SECURITY.md#untrusted-models for more details). In a future release, the default value for `weights_only` will be flipped to `True`. This limits the functions that could be executed during unpickling. Arbitrary objects will no longer be allowed to be loaded via this mode unless they are explicitly allowlisted by the user via `torch.serialization.add_safe_globals`. We recommend you start setting `weights_only=True` for any use case where you don't have full control of the loaded file. Please open an issue on GitHub for any issues related to this experimental feature.\n",
      "  state_dict = torch.load(model_file, map_location=torch.device(map_location))\n"
     ]
    }
   ],
   "source": [
    "device = torch.device('cuda:0') if torch.cuda.is_available() else torch.device('cpu')\n",
    "print(device)\n",
    "model = GLiNER.from_pretrained(\"almanach/camembert-bio-gliner-v0.1\")"
   ]
  },
  {
   "cell_type": "code",
   "execution_count": 6,
   "metadata": {},
   "outputs": [],
   "source": [
    "# use it for better performance, it mimics original implementation but it's less memory efficient\n",
    "data_collator = DataCollator(model.config, data_processor=model.data_processor, prepare_labels=True)"
   ]
  },
  {
   "cell_type": "code",
   "execution_count": 7,
   "metadata": {},
   "outputs": [
    {
     "name": "stdout",
     "output_type": "stream",
     "text": [
      "done\n"
     ]
    }
   ],
   "source": [
    "# Optional: compile model for faster training\n",
    "model.to(device)\n",
    "print(\"done\")"
   ]
  },
  {
   "cell_type": "code",
   "execution_count": 8,
   "metadata": {},
   "outputs": [
    {
     "data": {
      "text/plain": [
       "<gliner.data_processing.collator.DataCollator at 0x1d49a957bc0>"
      ]
     },
     "execution_count": 8,
     "metadata": {},
     "output_type": "execute_result"
    }
   ],
   "source": [
    "data_collator"
   ]
  },
  {
   "cell_type": "code",
   "execution_count": 12,
   "metadata": {},
   "outputs": [
    {
     "name": "stderr",
     "output_type": "stream",
     "text": [
      "c:\\Users\\benysar\\Documents\\GitHub\\GLiner-TransbronchialBiopsy\\gliner_env\\Lib\\site-packages\\transformers\\training_args.py:1474: FutureWarning: `evaluation_strategy` is deprecated and will be removed in version 4.46 of 🤗 Transformers. Use `eval_strategy` instead\n",
      "  warnings.warn(\n"
     ]
    }
   ],
   "source": [
    "# calculate number of epochs\n",
    "num_steps = 500\n",
    "batch_size = 8\n",
    "data_size = len(train_dataset)\n",
    "num_batches = data_size // batch_size\n",
    "num_epochs = max(1, num_steps // num_batches)\n",
    "\n",
    "training_args = TrainingArguments(\n",
    "    output_dir=\"models\",\n",
    "    learning_rate=5e-6,\n",
    "    weight_decay=0.01,\n",
    "    others_lr=1e-5,\n",
    "    others_weight_decay=0.01,\n",
    "    lr_scheduler_type=\"linear\", #cosine\n",
    "    warmup_ratio=0.1,\n",
    "    per_device_train_batch_size=batch_size,\n",
    "    per_device_eval_batch_size=batch_size,\n",
    "    focal_loss_alpha=0.75,\n",
    "    focal_loss_gamma=2,\n",
    "    num_train_epochs=num_epochs,\n",
    "    evaluation_strategy=\"steps\",\n",
    "    save_steps = 100,\n",
    "    save_total_limit=10,\n",
    "    dataloader_num_workers = 0,\n",
    "    use_cpu = False,\n",
    "    report_to=\"none\",\n",
    "    )"
   ]
  },
  {
   "cell_type": "code",
   "execution_count": 13,
   "metadata": {},
   "outputs": [
    {
     "name": "stderr",
     "output_type": "stream",
     "text": [
      " 86%|████████▌ | 500/581 [01:57<00:18,  4.48it/s]"
     ]
    },
    {
     "name": "stdout",
     "output_type": "stream",
     "text": [
      "{'loss': 6.1245, 'grad_norm': 86.10486602783203, 'learning_rate': 1.5517241379310346e-06, 'epoch': 71.43}\n"
     ]
    },
    {
     "name": "stderr",
     "output_type": "stream",
     "text": [
      "                                                 \n",
      " 86%|████████▌ | 500/581 [01:57<00:18,  4.48it/s]"
     ]
    },
    {
     "name": "stdout",
     "output_type": "stream",
     "text": [
      "{'eval_loss': 73.24057006835938, 'eval_runtime': 0.0436, 'eval_samples_per_second': 137.703, 'eval_steps_per_second': 22.95, 'epoch': 71.43}\n"
     ]
    },
    {
     "name": "stderr",
     "output_type": "stream",
     "text": [
      "100%|██████████| 581/581 [02:16<00:00,  4.25it/s]"
     ]
    },
    {
     "name": "stdout",
     "output_type": "stream",
     "text": [
      "{'train_runtime': 136.8578, 'train_samples_per_second': 30.93, 'train_steps_per_second': 4.245, 'train_loss': 5.602493680077453, 'epoch': 83.0}\n"
     ]
    },
    {
     "name": "stderr",
     "output_type": "stream",
     "text": [
      "\n"
     ]
    },
    {
     "data": {
      "text/plain": [
       "TrainOutput(global_step=581, training_loss=5.602493680077453, metrics={'train_runtime': 136.8578, 'train_samples_per_second': 30.93, 'train_steps_per_second': 4.245, 'total_flos': 0.0, 'train_loss': 5.602493680077453, 'epoch': 83.0})"
      ]
     },
     "execution_count": 13,
     "metadata": {},
     "output_type": "execute_result"
    }
   ],
   "source": [
    "trainer = Trainer(\n",
    "    model=model,\n",
    "    args=training_args,\n",
    "    train_dataset=train_dataset,\n",
    "    eval_dataset=test_dataset,\n",
    "    tokenizer=model.data_processor.transformer_tokenizer,\n",
    "    data_collator=data_collator,\n",
    ")\n",
    "\n",
    "trainer.train()"
   ]
  },
  {
   "cell_type": "code",
   "execution_count": 6,
   "metadata": {},
   "outputs": [
    {
     "name": "stderr",
     "output_type": "stream",
     "text": [
      "config.json not found in C:\\Users\\benysar\\Documents\\GitHub\\GLiner-TransbronchialBiopsy\\src\\finetuning\\models\\BTB_gliner\\checkpoint-1300\n",
      "Special tokens have been added in the vocabulary, make sure the associated word embeddings are fine-tuned or trained.\n",
      "c:\\Users\\benysar\\Documents\\GitHub\\GLiner-TransbronchialBiopsy\\gliner_env\\Lib\\site-packages\\huggingface_hub\\file_download.py:797: FutureWarning: `resume_download` is deprecated and will be removed in version 1.0.0. Downloads always resume when possible. If you want to force a new download, use `force_download=True`.\n",
      "  warnings.warn(\n",
      "c:\\Users\\benysar\\Documents\\GitHub\\GLiner-TransbronchialBiopsy\\gliner_env\\Lib\\site-packages\\gliner\\model.py:483: FutureWarning: You are using `torch.load` with `weights_only=False` (the current default value), which uses the default pickle module implicitly. It is possible to construct malicious pickle data which will execute arbitrary code during unpickling (See https://github.com/pytorch/pytorch/blob/main/SECURITY.md#untrusted-models for more details). In a future release, the default value for `weights_only` will be flipped to `True`. This limits the functions that could be executed during unpickling. Arbitrary objects will no longer be allowed to be loaded via this mode unless they are explicitly allowlisted by the user via `torch.serialization.add_safe_globals`. We recommend you start setting `weights_only=True` for any use case where you don't have full control of the loaded file. Please open an issue on GitHub for any issues related to this experimental feature.\n",
      "  state_dict = torch.load(model_file, map_location=torch.device(map_location))\n"
     ]
    }
   ],
   "source": [
    "trained_model = GLiNER.from_pretrained(\"models/BTB_gliner/checkpoint-1300\", load_tokenizer=True)"
   ]
  },
  {
   "cell_type": "code",
   "execution_count": 7,
   "metadata": {},
   "outputs": [
    {
     "name": "stdout",
     "output_type": "stream",
     "text": [
      "7 => Nombre Total De Fragments\n",
      "B0 => Grade B\n",
      "lésions évocatrices de rejet aigu humoral => Éosinophilie\n",
      "lésions évocatrices de rejet chronique => Éosinophilie\n"
     ]
    }
   ],
   "source": [
    "text = \"\"\"\n",
    "1/ Lavage broncho alvéolaire :\n",
    "Liquide hypercellulaire avec légère polynucléose à polynucléaires neutrophiles sans agent pathogène\n",
    "retrouvé.\n",
    "2/ Biopsies transbronchiques : 7 fragments.\n",
    "Absence de rejet aigu cellulaire bronchiolaire ou parenchymateux. A0 B0\n",
    "Absence de lésions évocatrices de rejet aigu humoral.\n",
    "Absence de lésions évocatrices de rejet chronique.\n",
    "Absence d'inclusion virale et notamment d’inclusion de type CMV.\"\"\"\n",
    "\n",
    "# Labels for entity prediction\n",
    "labels = [\n",
    "    \"Site\",\n",
    "    \"Nombre Total De Fragments\",\n",
    "    \"Nombre Total De Fragments Alvéolés\",\n",
    "    \"Grade A\",\n",
    "    \"Grade B\",\n",
    "    \"Rejet Chronique\",\n",
    "    \"Coloration C4d\",\n",
    "    \"Lésion Septale\",\n",
    "    \"Lésion Intra-Alvéolaire\",\n",
    "    \"Éosinophilie\",\n",
    "    \"Pneumonie Organisée\",\n",
    "    \"DAD\",\n",
    "    \"Infection\",\n",
    "    \"Autre Pathologie\"\n",
    "]# for v2.1 use capital case for better performance\n",
    "\n",
    "# Perform entity prediction\n",
    "entities = trained_model.predict_entities(text, labels, threshold=0.5)\n",
    "\n",
    "# Display predicted entities and their labels\n",
    "for entity in entities:\n",
    "    print(entity[\"text\"], \"=>\", entity[\"label\"])"
   ]
  },
  {
   "cell_type": "code",
   "execution_count": 50,
   "metadata": {},
   "outputs": [
    {
     "name": "stdout",
     "output_type": "stream",
     "text": [
      "LID => Site\n",
      "A0 => Grade A\n",
      "B0 => Grade B\n"
     ]
    }
   ],
   "source": [
    "text = \"\"\"\n",
    "LBA : Liquide broncho-alvéolaire de cellularité élevée avec importante polyunucléose à\n",
    "polynucléaires neutrophiles parfois altérés.\n",
    "Présence d’un amas bactérien extracellulaire.\n",
    "\n",
    "Biopsie transbronchique (LID) :\n",
    "Fragments biopsiques de bonne taille ayant intéressé des berges bronchiolaires ou de\n",
    "petites bronches dépourvues de tout argument morphologique pour un éventuel rejet\n",
    "aigu bronchiolaire.\n",
    "A noter l’existence d’un minime infiltrat inflammatoire polymorphe au sein du chorion\n",
    "témoignant de discrètes lésions de bronchiolite aiguë sans caractère de spécificité.\n",
    "Le parenchyme pulmonaire intéressé par ces prélèvements ne montre pas d’argument\n",
    "morphologique en faveur d’un éventuel rejet aigu parenchymateux minime.\n",
    "Absence d’inclusion virale et notamment d’inclusion à CMV.\n",
    "A0 B0\"\"\"\n",
    "\n",
    "# Labels for entity prediction\n",
    "labels = [\n",
    "    \"Site\",\n",
    "    \"Nombre Total De Fragments\",\n",
    "    \"Nombre Total De Fragments Alvéolés\",\n",
    "    \"Grade A\",\n",
    "    \"Grade B\",\n",
    "    \"Rejet Chronique\",\n",
    "    \"Coloration C4d\",\n",
    "    \"Lésion Septale\",\n",
    "    \"Lésion Intra-Alvéolaire\",\n",
    "    \"Éosinophilie\",\n",
    "    \"Pneumonie Organisée\",\n",
    "    \"DAD\",\n",
    "    \"Infection\",\n",
    "    \"Autre Pathologie\"\n",
    "]\n",
    "\n",
    "# Perform entity prediction\n",
    "entities = trained_model.predict_entities(text, labels, threshold=0.5)\n",
    "\n",
    "# Display predicted entities and their labels\n",
    "for entity in entities:\n",
    "    print(entity[\"text\"], \"=>\", entity[\"label\"])"
   ]
  },
  {
   "cell_type": "code",
   "execution_count": 8,
   "metadata": {},
   "outputs": [
    {
     "name": "stdout",
     "output_type": "stream",
     "text": [
      "LID => Site\n",
      "B0 => Grade B\n"
     ]
    }
   ],
   "source": [
    "text = \"\"\"\n",
    "Biopsie transbronchique (LID) :\n",
    "Fragments biopsiques de bonne taille ayant intéressé des berges bronchiolaires ou de\n",
    "petites bronches dépourvues de tout argument morphologique pour un éventuel rejet\n",
    "aigu bronchiolaire.\n",
    "A noter l’existence d’un minime infiltrat inflammatoire polymorphe au sein du chorion\n",
    "témoignant de discrètes lésions de bronchiolite aiguë sans caractère de spécificité.\n",
    "Le parenchyme pulmonaire intéressé par ces prélèvements ne montre pas d’argument\n",
    "morphologique en faveur d’un éventuel rejet aigu parenchymateux minime.\n",
    "Absence d’inclusion virale et notamment d’inclusion à CMV.\n",
    "A0 B0. \"\"\"\n",
    "\n",
    "# Labels for entity prediction\n",
    "labels = [\n",
    "    \"Site\",\n",
    "    \"Nombre Total De Fragments\",\n",
    "    \"Nombre Total De Fragments Alvéolés\",\n",
    "    \"Grade A\",\n",
    "    \"Grade B\",\n",
    "    \"Rejet Chronique\",\n",
    "    \"Coloration C4d\",\n",
    "    \"Lésion Septale\",\n",
    "    \"Lésion Intra-Alvéolaire\",\n",
    "    \"Éosinophilie\",\n",
    "    \"Pneumonie Organisée\",\n",
    "    \"DAD\",\n",
    "    \"Infection\",\n",
    "    \"Autre Pathologie\"\n",
    "]\n",
    "\n",
    "# Perform entity prediction\n",
    "entities = trained_model.predict_entities(text, labels, threshold=0.5)\n",
    "\n",
    "# Display predicted entities and their labels\n",
    "for entity in entities:\n",
    "    print(entity[\"text\"], \"=>\", entity[\"label\"])"
   ]
  },
  {
   "cell_type": "code",
   "execution_count": 9,
   "metadata": {},
   "outputs": [
    {
     "name": "stdout",
     "output_type": "stream",
     "text": [
      "LM => Site\n",
      "1 => Nombre Total De Fragments\n"
     ]
    }
   ],
   "source": [
    "text = \"\"\"\n",
    "1/ Biopsie transbronchique (LM) :\n",
    "1 fragment biopsique ayant intéressé la plèvre viscérale, sans parenchyme\n",
    "pulmonaire, ne permettant pas une étude histologique contributive.\n",
    "\n",
    "2/ Lavage broncho alvéolaire :\n",
    "Lavage de richesse cellulaire légèrement augmentée, sans anomalie de la formule\n",
    "cytologique.\n",
    "Absence d’agent pathogène opportuniste. \"\"\"\n",
    "\n",
    "# Labels for entity prediction\n",
    "labels = [\n",
    "    \"Site\",\n",
    "    \"Nombre Total De Fragments\",\n",
    "\n",
    "]\n",
    "\n",
    "# Perform entity prediction\n",
    "entities = trained_model.predict_entities(text, labels, threshold=0.5)\n",
    "\n",
    "# Display predicted entities and their labels\n",
    "for entity in entities:\n",
    "    print(entity[\"text\"], \"=>\", entity[\"label\"])"
   ]
  },
  {
   "cell_type": "code",
   "execution_count": 10,
   "metadata": {},
   "outputs": [
    {
     "name": "stdout",
     "output_type": "stream",
     "text": [
      "Quatre => Nombre Total De Fragments\n",
      "des cloisons discrètement congestives => Lésion Septale\n"
     ]
    }
   ],
   "source": [
    "text = \"\"\"\n",
    " BIOPSIE TRANSBRONCHIQUE\n",
    "\n",
    "Renseignements cliniques : re-transplantation pulmonaire. Bilan à J38\n",
    "Quatre fragments de grande taille avec des berges bronchiolaires sans anomalie. Dans le chorion,\n",
    "quelques dépôts d’anthracose. Infiltrat lymphocytaire focal à l’interface avec le parenchyme pulmonaire.\n",
    "Ce dernier montre des alvéoles normales, des cloisons discrètement congestives ou parfois avec discret\n",
    "épaississement fibreux. Rares macrophages intra alvéolaires. Les nombreuses sections vasculaires visibles\n",
    "dans ce parenchyme sont dépourvues d’infiltrat inflammatoire mononucléé au pourtour. Absence\n",
    "d’inclusion de type viral.  \"\"\"\n",
    "\n",
    "# Labels for entity prediction\n",
    "labels = [\n",
    "    \"Site\",\n",
    "    \"Nombre Total De Fragments\",\n",
    "    \"Nombre Total De Fragments Alvéolés\",\n",
    "    \"Grade A\",\n",
    "    \"Grade B\",\n",
    "    \"Rejet Chronique\",\n",
    "    \"Coloration C4d\",\n",
    "    \"Lésion Septale\",\n",
    "    \"Lésion Intra-Alvéolaire\",\n",
    "    \"Éosinophilie\",\n",
    "    \"Pneumonie Organisée\",\n",
    "    \"DAD\",\n",
    "    \"Infection\",\n",
    "    \"Autre Pathologie\"\n",
    "]\n",
    "\n",
    "# Perform entity prediction\n",
    "entities = trained_model.predict_entities(text, labels, threshold=0.5)\n",
    "\n",
    "# Display predicted entities and their labels\n",
    "for entity in entities:\n",
    "    print(entity[\"text\"], \"=>\", entity[\"label\"])"
   ]
  },
  {
   "cell_type": "code",
   "execution_count": 11,
   "metadata": {},
   "outputs": [
    {
     "name": "stdout",
     "output_type": "stream",
     "text": [
      "lobe inférieur droit => Site\n",
      "1 => Nombre Total De Fragments\n",
      "A0 => Grade A\n",
      "B0 => Grade B\n"
     ]
    }
   ],
   "source": [
    "text = \"\"\"\n",
    "I - Biopsie transbronchique (lobe inférieur droit) :\n",
    "1 fragment biopsique ayant intéressé un parenchyme pulmonaire sans signe de rejet\n",
    "aigu cellulaire parenchymateux ou bronchiolaire (grade A0 B0).\n",
    "Absence d’inclusion virale de type CMV sur le matériel transmis à examiner. \"\"\"\n",
    "\n",
    "# Labels for entity prediction\n",
    "labels = [\n",
    "    \"Site\",\n",
    "    \"Nombre Total De Fragments\",\n",
    "    \"Nombre Total De Fragments Alvéolés\",\n",
    "    \"Grade A\",\n",
    "    \"Grade B\",\n",
    "    \"Rejet chronique\",\n",
    "    \"Coloration C4d\",\n",
    "    \"Lésion Septale\",\n",
    "    \"Lésion Intra-Alvéolaire\",\n",
    "    \"Éosinophilie\",\n",
    "    \"Pneumonie Organisée\",\n",
    "    \"DAD\",\n",
    "    \"Infection\",\n",
    "    \"Autre Pathologie\"\n",
    "]\n",
    "\n",
    "# Perform entity prediction\n",
    "entities = trained_model.predict_entities(text, labels, threshold=0.5)\n",
    "\n",
    "# Display predicted entities and their labels\n",
    "for entity in entities:\n",
    "    print(entity[\"text\"], \"=>\", entity[\"label\"])"
   ]
  },
  {
   "cell_type": "code",
   "execution_count": 12,
   "metadata": {},
   "outputs": [
    {
     "name": "stdout",
     "output_type": "stream",
     "text": [
      "6 => Nombre Total De Fragments\n",
      "A1 => Grade A\n",
      "B0 => Grade B\n"
     ]
    }
   ],
   "source": [
    "text = \"\"\"\n",
    "Biopsies transbronchiques : présence sur un seul plan de coupes des 6 fragments, d’un\n",
    "infiltrat mononucléé entourant une structure vasculaire intra parenchymateuse avec\n",
    "réaction d’endothélite pouvant témoigner d’un rejet aigu cellulaire minime. Absence de\n",
    "signe de rejet bronchiolaire. Absence d’inclusion virale, notamment de type CMV.\n",
    "A1 focal B0. \"\"\"\n",
    "\n",
    "# Labels for entity prediction\n",
    "labels = [\n",
    "    \"Site\",\n",
    "    \"Nombre Total De Fragments\",\n",
    "    \"Grade A\",\n",
    "    \"Grade B\",\n",
    "    \"Rejet Chronique\",\n",
    "\n",
    "]\n",
    "\n",
    "# Perform entity prediction\n",
    "entities = trained_model.predict_entities(text, labels, threshold=0.5)\n",
    "\n",
    "# Display predicted entities and their labels\n",
    "for entity in entities:\n",
    "    print(entity[\"text\"], \"=>\", entity[\"label\"])"
   ]
  },
  {
   "cell_type": "code",
   "execution_count": 13,
   "metadata": {},
   "outputs": [
    {
     "name": "stdout",
     "output_type": "stream",
     "text": [
      "Ulcération bronchique => Lésion Intra-Alvéolaire\n",
      "lésion de vascularite => Lésion Intra-Alvéolaire\n"
     ]
    }
   ],
   "source": [
    "text = \"\"\"\n",
    "I – Biopsies bronchiques étagées droites + biopsie transbronchique :\n",
    "Parenchyme pulmonaire d’architecture normale.\n",
    "Ulcération bronchique, avec importants remaniements inflammatoires non spécifiques\n",
    "du chorion.\n",
    "Absence de nécrose en carte de géographie, absence de lésion de vascularite ou de micro\n",
    "abcès à polynucléaires sur le matériel transmis à examiner.\"\"\"\n",
    "\n",
    "# Labels for entity prediction\n",
    "labels = [\n",
    "    \"Site\",\n",
    "    \"Nombre Total De Fragments\",\n",
    "    \"Nombre Total De Fragments Alvéolés\",\n",
    "    \"Grade A\",\n",
    "    \"Grade B\",\n",
    "    \"Rejet chronique\",\n",
    "    \"Coloration C4d\",\n",
    "    \"Lésion Septale\",\n",
    "    \"Lésion Intra-Alvéolaire\",\n",
    "    \"Éosinophilie\",\n",
    "    \"Pneumonie Organisée\",\n",
    "    \"DAD\",\n",
    "    \"Infection\",\n",
    "    \"Autre Pathologie\"\n",
    "]\n",
    "\n",
    "# Perform entity prediction\n",
    "entities = trained_model.predict_entities(text, labels, threshold=0.5)\n",
    "\n",
    "# Display predicted entities and their labels\n",
    "for entity in entities:\n",
    "    print(entity[\"text\"], \"=>\", entity[\"label\"])"
   ]
  },
  {
   "cell_type": "code",
   "execution_count": 14,
   "metadata": {},
   "outputs": [
    {
     "name": "stdout",
     "output_type": "stream",
     "text": [
      "LID => Site\n",
      "LM => Site\n",
      "9 => Nombre Total De Fragments\n",
      "B0 => Grade B\n",
      "hyperplasie pneumocytaire => Lésion Intra-Alvéolaire\n",
      "quelques fibromes végétants endo alvéolaires => Pneumonie Organisée\n"
     ]
    }
   ],
   "source": [
    "text = \"\"\"\n",
    "1/ Biopsies transbronchiques (LID – LM) :\n",
    "9 fragments biopsiques ayant intéressé un parenchyme pulmonaire sans argument\n",
    "morphologique en faveur d’un rejet aigu cellulaire parenchymateux ou bronchiolaire (A0 et B0).\n",
    "Aspect d’alvéolite macrophagique, associée à une discrète hyperplasie pneumocytaire et à\n",
    "quelques fibromes végétants endo alvéolaires. \n",
    "Absence d’inclusion virale de type CMV.\"\"\"\n",
    "\n",
    "# Labels for entity prediction\n",
    "labels = [\n",
    "    \"Site\",\n",
    "    \"Nombre Total De Fragments\",\n",
    "    \"Nombre Total De Fragments Alvéolés\",\n",
    "    \"Grade A\",\n",
    "    \"Grade B\",\n",
    "    \"Rejet chronique\",\n",
    "    \"Coloration C4d\",\n",
    "    \"Lésion Septale\",\n",
    "    \"Lésion Intra-Alvéolaire\",\n",
    "    \"Éosinophilie\",\n",
    "    \"Pneumonie Organisée\",\n",
    "    \"DAD\",\n",
    "    \"Infection\",\n",
    "    \"Autre Pathologie\"\n",
    "]\n",
    "\n",
    "# Perform entity prediction\n",
    "entities = trained_model.predict_entities(text, labels, threshold=0.5)\n",
    "\n",
    "# Display predicted entities and their labels\n",
    "for entity in entities:\n",
    "    print(entity[\"text\"], \"=>\", entity[\"label\"])"
   ]
  },
  {
   "cell_type": "code",
   "execution_count": 15,
   "metadata": {},
   "outputs": [
    {
     "name": "stdout",
     "output_type": "stream",
     "text": [
      "LID => Site\n",
      "LM => Site\n",
      "6 => Nombre Total De Fragments\n",
      "A1+ => Grade A\n",
      "B0 => Grade B\n",
      "Des aspects d’alvéolite fibrineuse, macrophagique et végétante => Lésion Intra-Alvéolaire\n",
      "hyperplasie pneumocytaire => Lésion Intra-Alvéolaire\n",
      "agression du compartiment endo alvéolaire => Lésion Intra-Alvéolaire\n",
      "œdème de reperfusion => Lésion Intra-Alvéolaire\n"
     ]
    }
   ],
   "source": [
    "text = \"\"\"\n",
    "1. Biopsies transbronchiques (LID – LM) : 6 fragments biopsiques ayant intéressé un parenchyme pulmonaire présentant : - 2 manchons lymphocytaires circonférenciels péri vasculaires évoquant un rejet aigu parenchymateux de grade A1+. Berges bronchiolaires sans anomalie morphologique notable (B0). - Des aspects d’alvéolite fibrineuse, macrophagique et végétante, associées à une hyperplasie pneumocytaire, pouvant être la traduction d’une agression du compartiment endo alvéolaire secondaire à un œdème de reperfusion. Absence d’inclusion virale de type CMV.\"\"\"\n",
    "\n",
    "# Labels for entity prediction\n",
    "labels = [\n",
    "    \"Site\",\n",
    "    \"Nombre Total De Fragments\",\n",
    "    \"Nombre Total De Fragments Alvéolés\",\n",
    "    \"Grade A\",\n",
    "    \"Grade B\",\n",
    "    \"Rejet chronique\",\n",
    "    \"Coloration C4d\",\n",
    "    \"Lésion Septale\",\n",
    "    \"Lésion Intra-Alvéolaire\",\n",
    "    \"Éosinophilie\",\n",
    "    \"Pneumonie Organisée\",\n",
    "    \"DAD\",\n",
    "    \"Infection\",\n",
    "    \"Autre Pathologie\"\n",
    "]\n",
    "\n",
    "# Perform entity prediction\n",
    "entities = trained_model.predict_entities(text, labels, threshold=0.3)\n",
    "\n",
    "# Display predicted entities and their labels\n",
    "for entity in entities:\n",
    "    print(entity[\"text\"], \"=>\", entity[\"label\"])"
   ]
  },
  {
   "cell_type": "code",
   "execution_count": 83,
   "metadata": {},
   "outputs": [
    {
     "name": "stdout",
     "output_type": "stream",
     "text": [
      "Predictions saved to entities_predictions.xlsx\n"
     ]
    }
   ],
   "source": [
    "import pandas as pd\n",
    "\n",
    "def predict_entities_for_texts(texts, model, labels, threshold=0.5, output_filename=\"entities_predictions.xlsx\"):\n",
    "    # Prepare a list to store results\n",
    "    all_results = []\n",
    "\n",
    "    # Loop over each text and predict entities\n",
    "    for text in texts:\n",
    "        entities = model.predict_entities(text, labels, threshold)\n",
    "        \n",
    "        # Create a dictionary for each entity with 'text' and 'label' columns\n",
    "        result = {'Text': text}\n",
    "        for label in labels:\n",
    "            result[label] = \"\"\n",
    "        \n",
    "        # Add the predicted entities and their corresponding labels\n",
    "        for entity in entities:\n",
    "            result[entity[\"label\"]] = entity[\"text\"]\n",
    "        \n",
    "        all_results.append(result)\n",
    "    \n",
    "    # Create a DataFrame\n",
    "    df = pd.DataFrame(all_results)\n",
    "    \n",
    "    # Save the DataFrame to an Excel file\n",
    "    df.to_excel(output_filename, index=False, engine=\"openpyxl\")\n",
    "    print(f\"Predictions saved to {output_filename}\")\n",
    "\n",
    "# Example usage:\n",
    "texts = [\n",
    "    \"\"\"\n",
    "    1/ Lavage broncho alvéolaire :\n",
    "    Liquide hypercellulaire avec légère polynucléose à polynucléaires neutrophiles sans agent pathogène\n",
    "    retrouvé.\n",
    "    2/ Biopsies transbronchiques : 7 fragments.\n",
    "    Absence de rejet aigu cellulaire bronchiolaire ou parenchymateux. A0 B0\n",
    "    Absence de lésions évocatrices de rejet aigu humoral.\n",
    "    Absence de lésions évocatrices de rejet chronique.\n",
    "    Absence d'inclusion virale et notamment d’inclusion de type CMV.\n",
    "    \"\"\",\n",
    "\n",
    "    \"\"\"\n",
    "    LBA : Liquide broncho-alvéolaire de cellularité élevée avec importante polyunucléose à\n",
    "    polynucléaires neutrophiles parfois altérés.\n",
    "    Présence d’un amas bactérien extracellulaire.\n",
    "\n",
    "    Biopsie transbronchique (LID) :\n",
    "    Fragments biopsiques de bonne taille ayant intéressé des berges bronchiolaires ou de\n",
    "    petites bronches dépourvues de tout argument morphologique pour un éventuel rejet\n",
    "    aigu bronchiolaire.\n",
    "    A noter l’existence d’un minime infiltrat inflammatoire polymorphe au sein du chorion\n",
    "    témoignant de discrètes lésions de bronchiolite aiguë sans caractère de spécificité.\n",
    "    Le parenchyme pulmonaire intéressé par ces prélèvements ne montre pas d’argument\n",
    "    morphologique en faveur d’un éventuel rejet aigu parenchymateux minime.\n",
    "    Absence d’inclusion virale et notamment d’inclusion à CMV.\n",
    "    A0 B0\n",
    "    \"\"\",\n",
    "\n",
    "    \"\"\"\n",
    "    Biopsie transbronchique (LID) :\n",
    "    Fragments biopsiques de bonne taille ayant intéressé des berges bronchiolaires ou de\n",
    "    petites bronches dépourvues de tout argument morphologique pour un éventuel rejet\n",
    "    aigu bronchiolaire.\n",
    "    A noter l’existence d’un minime infiltrat inflammatoire polymorphe au sein du chorion\n",
    "    témoignant de discrètes lésions de bronchiolite aiguë sans caractère de spécificité.\n",
    "    Le parenchyme pulmonaire intéressé par ces prélèvements ne montre pas d’argument\n",
    "    morphologique en faveur d’un éventuel rejet aigu parenchymateux minime.\n",
    "    Absence d’inclusion virale et notamment d’inclusion à CMV.\n",
    "    A0 B0.\n",
    "    \"\"\",\n",
    "\n",
    "    \"\"\"\n",
    "    1/ Biopsie transbronchique (LM) :\n",
    "    1 fragment biopsique ayant intéressé la plèvre viscérale, sans parenchyme\n",
    "    pulmonaire, ne permettant pas une étude histologique contributive.\n",
    "\n",
    "    2/ Lavage broncho alvéolaire :\n",
    "    Lavage de richesse cellulaire légèrement augmentée, sans anomalie de la formule\n",
    "    cytologique.\n",
    "    Absence d’agent pathogène opportuniste.\n",
    "    \"\"\",\n",
    "\n",
    "    \"\"\"\n",
    "    BIOPSIE TRANSBRONCHIQUE\n",
    "\n",
    "    Renseignements cliniques : re-transplantation pulmonaire. Bilan à J38\n",
    "    Quatre fragments de grande taille avec des berges bronchiolaires sans anomalie. Dans le chorion,\n",
    "    quelques dépôts d’anthracose. Infiltrat lymphocytaire focal à l’interface avec le parenchyme pulmonaire.\n",
    "    Ce dernier montre des alvéoles normales, des cloisons discrètement congestives ou parfois avec discret\n",
    "    épaississement fibreux. Rares macrophages intra alvéolaires. Les nombreuses sections vasculaires visibles\n",
    "    dans ce parenchyme sont dépourvues d’infiltrat inflammatoire mononucléé au pourtour. Absence\n",
    "    d’inclusion de type viral.\n",
    "    \"\"\",\n",
    "\n",
    "    \"\"\"\n",
    "    I - Biopsie transbronchique (lobe inférieur droit) :\n",
    "    1 fragment biopsique ayant intéressé un parenchyme pulmonaire sans signe de rejet\n",
    "    aigu cellulaire parenchymateux ou bronchiolaire (grade A0 B0).\n",
    "    Absence d’inclusion virale de type CMV sur le matériel transmis à examiner.\n",
    "    \"\"\",\n",
    "\n",
    "    \"\"\"\n",
    "    Biopsies transbronchiques : présence sur un seul plan de coupes des 6 fragments, d’un\n",
    "    infiltrat mononucléé entourant une structure vasculaire intra parenchymateuse avec\n",
    "    réaction d’endothélite pouvant témoigner d’un rejet aigu cellulaire minime. Absence de\n",
    "    signe de rejet bronchiolaire. Absence d’inclusion virale, notamment de type CMV.\n",
    "    A1 focal B0.\n",
    "    \"\"\",\n",
    "\n",
    "    \"\"\"\n",
    "    I – Biopsies bronchiques étagées droites + biopsie transbronchique :\n",
    "    Parenchyme pulmonaire d’architecture normale.\n",
    "    Ulcération bronchique, avec importants remaniements inflammatoires non spécifiques\n",
    "    du chorion.\n",
    "    Absence de nécrose en carte de géographie, absence de lésion de vascularite ou de micro\n",
    "    abcès à polynucléaires sur le matériel transmis à examiner.\n",
    "    \"\"\",\n",
    "\n",
    "    \"\"\"\n",
    "    1/ Biopsies transbronchiques (LID – LM) :\n",
    "    9 fragments biopsiques ayant intéressé un parenchyme pulmonaire sans argument\n",
    "    morphologique en faveur d’un rejet aigu cellulaire parenchymateux ou bronchiolaire (A0 et B0).\n",
    "    Aspect d’alvéolite macrophagique, associée à une discrète hyperplasie pneumocytaire et à\n",
    "    quelques fibromes végétants endo alvéolaires. \n",
    "    Absence d’inclusion virale de type CMV.\n",
    "    \"\"\",\n",
    "\n",
    "    \"\"\"\n",
    "    Lavage broncho-alvéolaire : prélèvement peu cellulaire avec abondant mucus, cellules\n",
    "    cylindrique et hyperleucocytose modérée (aspiration ?). Absence d’agent pathogène\n",
    "    spécifique mis en évidence sur les colorations cytochimiques.\n",
    "\n",
    "    Biopsies transbronchiques : signe histologique en faveur d’un rejet aiguë cellulaire\n",
    "    parenchymateux léger. Absence de rejet bronchiolaire. Absence d’inclusion virale,\n",
    "    notamment de type CMV.\n",
    "    A1 B0\n",
    "    \"\"\"\n",
    "]\n",
    "\n",
    "\n",
    "labels = [\n",
    "    \"Site\", \"Nombre Total De Fragments\", \"Nombre Total De Fragments Alvéolés\", \"Grade A\", \"Grade B\", \"Rejet Chronique\",\n",
    "    \"Coloration C4d\", \"Lésion Septale\", \"Lésion Intra-Alvéolaire\", \"Éosinophilie\", \"Pneumonie Organisée\", \"DAD\", \"Infection\", \"Autre Pathologie\"\n",
    "]\n",
    "\n",
    "# Assuming 'trained_model' is your trained entity prediction model\n",
    "predict_entities_for_texts(texts, trained_model, labels)\n"
   ]
  },
  {
   "cell_type": "code",
   "execution_count": null,
   "metadata": {},
   "outputs": [],
   "source": []
  }
 ],
 "metadata": {
  "kernelspec": {
   "display_name": "gliner_env",
   "language": "python",
   "name": "python3"
  },
  "language_info": {
   "codemirror_mode": {
    "name": "ipython",
    "version": 3
   },
   "file_extension": ".py",
   "mimetype": "text/x-python",
   "name": "python",
   "nbconvert_exporter": "python",
   "pygments_lexer": "ipython3",
   "version": "3.12.7"
  }
 },
 "nbformat": 4,
 "nbformat_minor": 2
}
